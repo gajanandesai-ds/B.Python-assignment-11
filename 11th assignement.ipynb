{
 "cells": [
  {
   "cell_type": "raw",
   "id": "42a67672",
   "metadata": {},
   "source": [
    "1. Create an assert statement that throws an AssertionError if the variable spam is a negative\n",
    "integer."
   ]
  },
  {
   "cell_type": "raw",
   "id": "bb9335b0",
   "metadata": {},
   "source": [
    "ans:assert (spam >10,'The spam variable is less than 10.')"
   ]
  },
  {
   "cell_type": "code",
   "execution_count": null,
   "id": "30fffd7e",
   "metadata": {},
   "outputs": [],
   "source": []
  },
  {
   "cell_type": "raw",
   "id": "835947fe",
   "metadata": {},
   "source": [
    "2.Write an assert statement that triggers an AssertionError if the variables eggs and bacon contain\n",
    "strings that are the same as each other, even if their cases are different (that is,'hello'; and 'hell' are\n",
    "considered the same, and 'goodbye' and 'GOODbye' are also considered the same)."
   ]
  },
  {
   "cell_type": "raw",
   "id": "cb36972e",
   "metadata": {},
   "source": [
    "ans: assert(eggs.lower()!= bacon.lower(),'the eggs and bacon variables are the same!')or\n",
    "\n",
    "assert(eggs.upper()!=bacon.upper()!=bacon.upper(), The eggs and bacon variables are the same!'"
   ]
  },
  {
   "cell_type": "code",
   "execution_count": null,
   "id": "d3754a67",
   "metadata": {},
   "outputs": [],
   "source": []
  },
  {
   "cell_type": "raw",
   "id": "ef85b1cb",
   "metadata": {},
   "source": [
    "3. Create an assert statement that throws an AssertionError every time."
   ]
  },
  {
   "cell_type": "raw",
   "id": "07a496f9",
   "metadata": {},
   "source": [
    "ans: assert False,'The assertion always triggers',"
   ]
  },
  {
   "cell_type": "code",
   "execution_count": null,
   "id": "7e56ed51",
   "metadata": {},
   "outputs": [],
   "source": []
  },
  {
   "cell_type": "raw",
   "id": "ae0f5515",
   "metadata": {},
   "source": [
    "4. What are the two lines that must be present in your software in order to call logging.debug()?"
   ]
  },
  {
   "cell_type": "raw",
   "id": "9d1d9995",
   "metadata": {},
   "source": [
    "ans:To be able to call logging. debug(),you must have these two lines at the start of your program:\n",
    "import logging\n",
    "logging. basic Config(level=logging.DEBUG,format='%(asctime)s-%(levelname)s=%(message)'s')"
   ]
  },
  {
   "cell_type": "code",
   "execution_count": null,
   "id": "79e71ffb",
   "metadata": {},
   "outputs": [],
   "source": []
  },
  {
   "cell_type": "raw",
   "id": "9a53ae4c",
   "metadata": {},
   "source": [
    "5. What are the two lines that your program must have in order to have logging.debug() send a\n",
    "logging message to a file named programLog.txt?"
   ]
  },
  {
   "cell_type": "raw",
   "id": "ab17623b",
   "metadata": {},
   "source": [
    "ans:To be able to send logging message to a file named programLog.txt with logging.debug(),you must have these two lines at the start of your:\n",
    "\n",
    "import logging\n",
    "\n",
    ">>>\n",
    "logging.basic Config(filename='programLog.txt',level= logging.DEBUG,\n",
    "FORMAT='%(asctime)s-%(levelnames)s-%(message')"
   ]
  },
  {
   "cell_type": "code",
   "execution_count": null,
   "id": "fa14b0fa",
   "metadata": {},
   "outputs": [],
   "source": []
  },
  {
   "cell_type": "raw",
   "id": "f61dc872",
   "metadata": {},
   "source": [
    "6. What are the five levels of logging?"
   ]
  },
  {
   "cell_type": "raw",
   "id": "3ebb3246",
   "metadata": {},
   "source": [
    "ans: DEBUG,INFO,WARNING,ERROR,and CRITICAL"
   ]
  },
  {
   "cell_type": "code",
   "execution_count": null,
   "id": "80a4d03e",
   "metadata": {},
   "outputs": [],
   "source": []
  },
  {
   "cell_type": "raw",
   "id": "9a553a1c",
   "metadata": {},
   "source": [
    "7. What line of code would you add to your software to disable all logging messages?"
   ]
  },
  {
   "cell_type": "raw",
   "id": "0b3ff205",
   "metadata": {},
   "source": [
    "ANS: logging.disable(logging.CRITICAL)"
   ]
  },
  {
   "cell_type": "code",
   "execution_count": null,
   "id": "36ec7490",
   "metadata": {},
   "outputs": [],
   "source": []
  },
  {
   "cell_type": "raw",
   "id": "dcb05a3e",
   "metadata": {},
   "source": [
    "8.Why is using logging messages better than using print() to display the same message?"
   ]
  },
  {
   "cell_type": "raw",
   "id": "29edb6b5",
   "metadata": {},
   "source": [
    "Ans: you can disable logging messages without removing the loggings function calls. you can selectively disable lower-level loggings messages. You can create logging messages.Logging messages privides a timestamp."
   ]
  },
  {
   "cell_type": "code",
   "execution_count": null,
   "id": "80aa15e1",
   "metadata": {},
   "outputs": [],
   "source": []
  },
  {
   "cell_type": "raw",
   "id": "b1b985b5",
   "metadata": {},
   "source": [
    "9. What are the differences between the Step Over, Step In, and Step Out buttons in the debugger?"
   ]
  },
  {
   "cell_type": "raw",
   "id": "c73ca4ec",
   "metadata": {},
   "source": [
    "ans: The step button will move the debugger into a function call. The Over button will quickly execute the function call without stepping into it. The Out button will Quickly execute the rest of the code until it step out of the function it currently is in."
   ]
  },
  {
   "cell_type": "code",
   "execution_count": null,
   "id": "c880a8be",
   "metadata": {},
   "outputs": [],
   "source": []
  },
  {
   "cell_type": "raw",
   "id": "f394c407",
   "metadata": {},
   "source": [
    "10.After you click Continue, when will the debugger stop ?"
   ]
  },
  {
   "cell_type": "raw",
   "id": "bc71df91",
   "metadata": {},
   "source": [
    "ans: After you click Go, The debugger will stop when it has reached the ends of the program or a line with a breakpoint."
   ]
  },
  {
   "cell_type": "code",
   "execution_count": null,
   "id": "5f163d54",
   "metadata": {},
   "outputs": [],
   "source": []
  },
  {
   "cell_type": "raw",
   "id": "82534a0a",
   "metadata": {},
   "source": [
    "11. What is the concept of a breakpoint?"
   ]
  },
  {
   "cell_type": "raw",
   "id": "32fc3b73",
   "metadata": {},
   "source": [
    "ans:  A breakpoint is a line of code that causes the debugger to pause when the program execution reaches the line."
   ]
  },
  {
   "cell_type": "code",
   "execution_count": null,
   "id": "816daacc",
   "metadata": {},
   "outputs": [],
   "source": []
  }
 ],
 "metadata": {
  "kernelspec": {
   "display_name": "Python 3",
   "language": "python",
   "name": "python3"
  },
  "language_info": {
   "codemirror_mode": {
    "name": "ipython",
    "version": 3
   },
   "file_extension": ".py",
   "mimetype": "text/x-python",
   "name": "python",
   "nbconvert_exporter": "python",
   "pygments_lexer": "ipython3",
   "version": "3.8.8"
  }
 },
 "nbformat": 4,
 "nbformat_minor": 5
}
